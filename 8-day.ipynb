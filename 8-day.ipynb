{
 "cells": [
  {
   "cell_type": "code",
   "execution_count": 19,
   "metadata": {},
   "outputs": [],
   "source": [
    "from abc import ABC, abstractmethod"
   ]
  },
  {
   "cell_type": "code",
   "execution_count": 20,
   "metadata": {},
   "outputs": [
    {
     "name": "stdout",
     "output_type": "stream",
     "text": [
      "hello\n"
     ]
    }
   ],
   "source": [
    "\n",
    "class cat():\n",
    "    def say_hello(self):\n",
    "        print(\"hello\")\n",
    "        \n",
    "c=cat()\n",
    "c.say_hello()"
   ]
  },
  {
   "cell_type": "code",
   "execution_count": 21,
   "metadata": {},
   "outputs": [
    {
     "name": "stdout",
     "output_type": "stream",
     "text": [
      "hello\n"
     ]
    }
   ],
   "source": [
    "from abc import ABC, abstractmethod\n",
    "\n",
    "# ABC是为了让animal类不能被实例化，只能被继承，规定了接口里面必须包含的子类, 强制约定\n",
    "class animal(ABC):\n",
    "    @abstractmethod\n",
    "    def say_hello(self):\n",
    "        pass\n",
    "    \n",
    "class cat(animal):\n",
    "    def say_hello(self):\n",
    "        print(\"hello\")\n",
    "        \n",
    "c=cat()\n",
    "c.say_hello()"
   ]
  }
 ],
 "metadata": {
  "kernelspec": {
   "display_name": "py38",
   "language": "python",
   "name": "python3"
  },
  "language_info": {
   "codemirror_mode": {
    "name": "ipython",
    "version": 3
   },
   "file_extension": ".py",
   "mimetype": "text/x-python",
   "name": "python",
   "nbconvert_exporter": "python",
   "pygments_lexer": "ipython3",
   "version": "3.8.17"
  }
 },
 "nbformat": 4,
 "nbformat_minor": 2
}
